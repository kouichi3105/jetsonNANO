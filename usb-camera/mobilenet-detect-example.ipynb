{
 "cells": [
  {
   "cell_type": "markdown",
   "metadata": {},
   "source": [
    "## Jetson Nano - Object Detection Headless (from a Jupyter Notebook) ##\n",
    "\n",
    "* Install JetCard https://github.com/NVIDIA-AI-IOT/jetcard\n",
    "* Connect to your network and navigate to http://your-jetson-ip:8888/\n",
    "* Install all necessary pre-reqs for jetson inference demos in the Terminal https://github.com/dusty-nv/jetson-inference/blob/master/docs/building-repo-2.md"
   ]
  },
  {
   "cell_type": "code",
   "execution_count": null,
   "metadata": {},
   "outputs": [
    {
     "data": {
      "application/vnd.jupyter.widget-view+json": {
       "model_id": "afc599ecd8014394aa3bbf960c4d449e",
       "version_major": 2,
       "version_minor": 0
      },
      "text/plain": [
       "Image(value=b'', format='jpeg')"
      ]
     },
     "metadata": {},
     "output_type": "display_data"
    },
    {
     "data": {
      "application/vnd.jupyter.widget-view+json": {
       "model_id": "b46d37148e6340f8873d7b66641b492e",
       "version_major": 2,
       "version_minor": 0
      },
      "text/plain": [
       "Text(value='Hello World')"
      ]
     },
     "metadata": {},
     "output_type": "display_data"
    }
   ],
   "source": [
    "import ipywidgets\n",
    "from IPython.display import display\n",
    "import jetson.inference\n",
    "import jetson.utils\n",
    "import cv2\n",
    "\n",
    "# turn numpy array into a jpeg\n",
    "def bgr8_to_jpeg(value, quality=75):\n",
    "    return bytes(cv2.imencode('.jpg', value)[1])\n",
    "\n",
    "\n",
    "# load detect net\n",
    "net = jetson.inference.detectNet(\"ssd-mobilenet-v2\", threshold=0.5)\n",
    "\n",
    "camera = jetson.utils.gstCamera(1280, 720, \"/dev/video0\")\n",
    "image_widget = ipywidgets.Image(format='jpeg')\n",
    "text_widget = ipywidgets.Text(value='Hello World')\n",
    "display(image_widget,text_widget)\n",
    "\n",
    "while 1:\n",
    "    # get new image, zero copy needs to be 1 so we can access memory from cpu\n",
    "    img, width, height = camera.CaptureRGBA(zeroCopy=1)\n",
    "    \n",
    "    # detect, also appends image with found objects\n",
    "    detections = net.Detect(img, width, height)\n",
    "    \n",
    "    # we need a jpeg to display, depth is 4 because of alpha channel\n",
    "    image = jetson.utils.cudaToNumpy(img,width, height, 4)    \n",
    "    image_widget.value = bgr8_to_jpeg(image)\n",
    "    # lets put the found things in a text field just because\n",
    "    text_widget.value = \" \".join([net.GetClassDesc(d.ClassID) for d in detections])\n",
    "\n"
   ]
  },
  {
   "cell_type": "code",
   "execution_count": null,
   "metadata": {},
   "outputs": [],
   "source": []
  }
 ],
 "metadata": {
  "kernelspec": {
   "display_name": "Python 3",
   "language": "python",
   "name": "python3"
  },
  "language_info": {
   "codemirror_mode": {
    "name": "ipython",
    "version": 3
   },
   "file_extension": ".py",
   "mimetype": "text/x-python",
   "name": "python",
   "nbconvert_exporter": "python",
   "pygments_lexer": "ipython3",
   "version": "3.6.9"
  }
 },
 "nbformat": 4,
 "nbformat_minor": 2
}
